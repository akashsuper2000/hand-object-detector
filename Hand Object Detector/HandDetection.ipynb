{
  "nbformat": 4,
  "nbformat_minor": 0,
  "metadata": {
    "colab": {
      "provenance": []
    },
    "kernelspec": {
      "name": "python3",
      "display_name": "Python 3"
    },
    "language_info": {
      "name": "python"
    },
    "accelerator": "GPU",
    "gpuClass": "standard"
  },
  "cells": [
    {
      "cell_type": "code",
      "source": [
        "# !pip install -q condacolab\n",
        "# import condacolab\n",
        "# condacolab.install()\n",
        "# !conda create --name handobj python=3.6\n",
        "# !conda activate handobj\n",
        "# !conda install pytorch=1.0.1 torchvision cudatoolkit=10.0 -c pytorch\n",
        "# !pip install -r requirements.txt"
      ],
      "metadata": {
        "colab": {
          "base_uri": "https://localhost:8080/",
          "height": 411
        },
        "id": "S_v5nuv6X-_g",
        "outputId": "5e34f626-5d1c-4da8-8d49-7e4fdc2dc972"
      },
      "execution_count": null,
      "outputs": [
        {
          "output_type": "stream",
          "name": "stdout",
          "text": [
            "\u001b[33mWARNING: Running pip as the 'root' user can result in broken permissions and conflicting behaviour with the system package manager. It is recommended to use a virtual environment instead: https://pip.pypa.io/warnings/venv\u001b[0m\n"
          ]
        },
        {
          "output_type": "error",
          "ename": "ModuleNotFoundError",
          "evalue": "ignored",
          "traceback": [
            "\u001b[0;31m---------------------------------------------------------------------------\u001b[0m",
            "\u001b[0;31mModuleNotFoundError\u001b[0m                       Traceback (most recent call last)",
            "\u001b[0;32m<ipython-input-3-e7fb73129d76>\u001b[0m in \u001b[0;36m<module>\u001b[0;34m\u001b[0m\n\u001b[1;32m      1\u001b[0m \u001b[0mget_ipython\u001b[0m\u001b[0;34m(\u001b[0m\u001b[0;34m)\u001b[0m\u001b[0;34m.\u001b[0m\u001b[0msystem\u001b[0m\u001b[0;34m(\u001b[0m\u001b[0;34m'pip install -q condacolab'\u001b[0m\u001b[0;34m)\u001b[0m\u001b[0;34m\u001b[0m\u001b[0;34m\u001b[0m\u001b[0m\n\u001b[0;32m----> 2\u001b[0;31m \u001b[0;32mimport\u001b[0m \u001b[0mcondacolab\u001b[0m\u001b[0;34m\u001b[0m\u001b[0;34m\u001b[0m\u001b[0m\n\u001b[0m\u001b[1;32m      3\u001b[0m \u001b[0mcondacolab\u001b[0m\u001b[0;34m.\u001b[0m\u001b[0minstall\u001b[0m\u001b[0;34m(\u001b[0m\u001b[0;34m)\u001b[0m\u001b[0;34m\u001b[0m\u001b[0;34m\u001b[0m\u001b[0m\n\u001b[1;32m      4\u001b[0m \u001b[0mget_ipython\u001b[0m\u001b[0;34m(\u001b[0m\u001b[0;34m)\u001b[0m\u001b[0;34m.\u001b[0m\u001b[0msystem\u001b[0m\u001b[0;34m(\u001b[0m\u001b[0;34m'conda create --name handobj python=3.6'\u001b[0m\u001b[0;34m)\u001b[0m\u001b[0;34m\u001b[0m\u001b[0;34m\u001b[0m\u001b[0m\n\u001b[1;32m      5\u001b[0m \u001b[0mget_ipython\u001b[0m\u001b[0;34m(\u001b[0m\u001b[0;34m)\u001b[0m\u001b[0;34m.\u001b[0m\u001b[0msystem\u001b[0m\u001b[0;34m(\u001b[0m\u001b[0;34m'conda activate handobj'\u001b[0m\u001b[0;34m)\u001b[0m\u001b[0;34m\u001b[0m\u001b[0;34m\u001b[0m\u001b[0m\n",
            "\u001b[0;31mModuleNotFoundError\u001b[0m: No module named 'condacolab'",
            "",
            "\u001b[0;31m---------------------------------------------------------------------------\u001b[0;32m\nNOTE: If your import is failing due to a missing package, you can\nmanually install dependencies using either !pip or !apt.\n\nTo view examples of installing some common dependencies, click the\n\"Open Examples\" button below.\n\u001b[0;31m---------------------------------------------------------------------------\u001b[0m\n"
          ],
          "errorDetails": {
            "actions": [
              {
                "action": "open_url",
                "actionText": "Open Examples",
                "url": "/notebooks/snippets/importing_libraries.ipynb"
              }
            ]
          }
        }
      ]
    },
    {
      "cell_type": "code",
      "execution_count": null,
      "metadata": {
        "id": "iCZQRM4TXOKB"
      },
      "outputs": [],
      "source": [
        "import torch\n",
        "from torch import nn\n",
        "from torch.utils.data import DataLoader\n",
        "from torchsummary import summary"
      ]
    },
    {
      "cell_type": "code",
      "source": [
        "!git clone https://github.com/ddshan/hand_object_detector && cd hand_object_detector"
      ],
      "metadata": {
        "colab": {
          "base_uri": "https://localhost:8080/"
        },
        "id": "jkHDP1ymXzs9",
        "outputId": "ce3fca5e-61a1-4677-d0d7-6ea4a62874c8"
      },
      "execution_count": null,
      "outputs": [
        {
          "output_type": "stream",
          "name": "stdout",
          "text": [
            "fatal: destination path 'hand_object_detector' already exists and is not an empty directory.\n"
          ]
        }
      ]
    },
    {
      "cell_type": "code",
      "source": [
        "print(torch.__version__)"
      ],
      "metadata": {
        "colab": {
          "base_uri": "https://localhost:8080/"
        },
        "id": "YRzSc-h-FGov",
        "outputId": "b06cd2c1-5273-4e7d-de94-00fcf2bbe87d"
      },
      "execution_count": null,
      "outputs": [
        {
          "output_type": "stream",
          "name": "stdout",
          "text": [
            "1.12.1+cu113\n"
          ]
        }
      ]
    },
    {
      "cell_type": "code",
      "source": [
        "# import sys\n",
        "# sys.path.insert(1, '/content/hand_object_detector/lib/model/faster_rcnn')\n",
        "# sys.path.insert(1, '/content/hand_object_detector/lib/model/')\n",
        "# sys.path.insert(1, '/content/hand_object_detector/lib/')\n",
        "# print(sys.path)\n",
        "# from faster_rcnn import *\n",
        "%cd /content/hand_object_detector/lib/\n",
        "!python setup.py build develop"
      ],
      "metadata": {
        "colab": {
          "base_uri": "https://localhost:8080/"
        },
        "id": "finKNa8agS8l",
        "outputId": "b258c14c-f24a-4c52-f5c0-ffa19ffbe308"
      },
      "execution_count": null,
      "outputs": [
        {
          "output_type": "stream",
          "name": "stdout",
          "text": [
            "/content/hand_object_detector/lib\n",
            "running build\n",
            "running build_py\n",
            "creating build\n",
            "creating build/lib.linux-x86_64-3.7\n",
            "creating build/lib.linux-x86_64-3.7/pycocotools\n",
            "copying pycocotools/cocoeval.py -> build/lib.linux-x86_64-3.7/pycocotools\n",
            "copying pycocotools/__init__.py -> build/lib.linux-x86_64-3.7/pycocotools\n",
            "copying pycocotools/mask.py -> build/lib.linux-x86_64-3.7/pycocotools\n",
            "copying pycocotools/coco.py -> build/lib.linux-x86_64-3.7/pycocotools\n",
            "creating build/lib.linux-x86_64-3.7/model\n",
            "copying model/__init__.py -> build/lib.linux-x86_64-3.7/model\n",
            "creating build/lib.linux-x86_64-3.7/roi_data_layer\n",
            "copying roi_data_layer/minibatch.py -> build/lib.linux-x86_64-3.7/roi_data_layer\n",
            "copying roi_data_layer/__init__.py -> build/lib.linux-x86_64-3.7/roi_data_layer\n",
            "copying roi_data_layer/roibatchLoader.py -> build/lib.linux-x86_64-3.7/roi_data_layer\n",
            "copying roi_data_layer/roidb.py -> build/lib.linux-x86_64-3.7/roi_data_layer\n",
            "creating build/lib.linux-x86_64-3.7/datasets\n",
            "copying datasets/pascal_voc.py -> build/lib.linux-x86_64-3.7/datasets\n",
            "copying datasets/vg_eval.py -> build/lib.linux-x86_64-3.7/datasets\n",
            "copying datasets/__init__.py -> build/lib.linux-x86_64-3.7/datasets\n",
            "copying datasets/factory.py -> build/lib.linux-x86_64-3.7/datasets\n",
            "copying datasets/imdb.py -> build/lib.linux-x86_64-3.7/datasets\n",
            "copying datasets/ds_utils.py -> build/lib.linux-x86_64-3.7/datasets\n",
            "copying datasets/pascal_voc_rbg.py -> build/lib.linux-x86_64-3.7/datasets\n",
            "copying datasets/voc_eval.py -> build/lib.linux-x86_64-3.7/datasets\n",
            "copying datasets/voc_eval_raw.py -> build/lib.linux-x86_64-3.7/datasets\n",
            "copying datasets/imagenet.py -> build/lib.linux-x86_64-3.7/datasets\n",
            "copying datasets/coco.py -> build/lib.linux-x86_64-3.7/datasets\n",
            "copying datasets/vg.py -> build/lib.linux-x86_64-3.7/datasets\n",
            "creating build/lib.linux-x86_64-3.7/model/roi_crop\n",
            "copying model/roi_crop/__init__.py -> build/lib.linux-x86_64-3.7/model/roi_crop\n",
            "copying model/roi_crop/build.py -> build/lib.linux-x86_64-3.7/model/roi_crop\n",
            "creating build/lib.linux-x86_64-3.7/model/nms\n",
            "copying model/nms/__init__.py -> build/lib.linux-x86_64-3.7/model/nms\n",
            "copying model/nms/build.py -> build/lib.linux-x86_64-3.7/model/nms\n",
            "copying model/nms/nms_cpu.py -> build/lib.linux-x86_64-3.7/model/nms\n",
            "copying model/nms/nms_gpu.py -> build/lib.linux-x86_64-3.7/model/nms\n",
            "copying model/nms/nms_wrapper.py -> build/lib.linux-x86_64-3.7/model/nms\n",
            "creating build/lib.linux-x86_64-3.7/model/utils\n",
            "copying model/utils/logger.py -> build/lib.linux-x86_64-3.7/model/utils\n",
            "copying model/utils/__init__.py -> build/lib.linux-x86_64-3.7/model/utils\n",
            "copying model/utils/viz_hand_obj.py -> build/lib.linux-x86_64-3.7/model/utils\n",
            "copying model/utils/matching.py -> build/lib.linux-x86_64-3.7/model/utils\n",
            "copying model/utils/blob.py -> build/lib.linux-x86_64-3.7/model/utils\n",
            "copying model/utils/net_utils.py -> build/lib.linux-x86_64-3.7/model/utils\n",
            "copying model/utils/config.py -> build/lib.linux-x86_64-3.7/model/utils\n",
            "creating build/lib.linux-x86_64-3.7/model/roi_pooling\n",
            "copying model/roi_pooling/__init__.py -> build/lib.linux-x86_64-3.7/model/roi_pooling\n",
            "copying model/roi_pooling/build.py -> build/lib.linux-x86_64-3.7/model/roi_pooling\n",
            "creating build/lib.linux-x86_64-3.7/model/faster_rcnn\n",
            "copying model/faster_rcnn/resnet.py -> build/lib.linux-x86_64-3.7/model/faster_rcnn\n",
            "copying model/faster_rcnn/__init__.py -> build/lib.linux-x86_64-3.7/model/faster_rcnn\n",
            "copying model/faster_rcnn/vgg16.py -> build/lib.linux-x86_64-3.7/model/faster_rcnn\n",
            "copying model/faster_rcnn/faster_rcnn.py -> build/lib.linux-x86_64-3.7/model/faster_rcnn\n",
            "creating build/lib.linux-x86_64-3.7/model/roi_layers\n",
            "copying model/roi_layers/__init__.py -> build/lib.linux-x86_64-3.7/model/roi_layers\n",
            "copying model/roi_layers/roi_pool.py -> build/lib.linux-x86_64-3.7/model/roi_layers\n",
            "copying model/roi_layers/roi_align.py -> build/lib.linux-x86_64-3.7/model/roi_layers\n",
            "copying model/roi_layers/nms.py -> build/lib.linux-x86_64-3.7/model/roi_layers\n",
            "creating build/lib.linux-x86_64-3.7/model/roi_align\n",
            "copying model/roi_align/__init__.py -> build/lib.linux-x86_64-3.7/model/roi_align\n",
            "copying model/roi_align/build.py -> build/lib.linux-x86_64-3.7/model/roi_align\n",
            "creating build/lib.linux-x86_64-3.7/model/rpn\n",
            "copying model/rpn/bbox_transform.py -> build/lib.linux-x86_64-3.7/model/rpn\n",
            "copying model/rpn/proposal_layer.py -> build/lib.linux-x86_64-3.7/model/rpn\n",
            "copying model/rpn/__init__.py -> build/lib.linux-x86_64-3.7/model/rpn\n",
            "copying model/rpn/generate_anchors.py -> build/lib.linux-x86_64-3.7/model/rpn\n",
            "copying model/rpn/anchor_target_layer.py -> build/lib.linux-x86_64-3.7/model/rpn\n",
            "copying model/rpn/rpn.py -> build/lib.linux-x86_64-3.7/model/rpn\n",
            "copying model/rpn/proposal_target_layer_cascade.py -> build/lib.linux-x86_64-3.7/model/rpn\n",
            "creating build/lib.linux-x86_64-3.7/model/roi_crop/functions\n",
            "copying model/roi_crop/functions/__init__.py -> build/lib.linux-x86_64-3.7/model/roi_crop/functions\n",
            "copying model/roi_crop/functions/gridgen.py -> build/lib.linux-x86_64-3.7/model/roi_crop/functions\n",
            "copying model/roi_crop/functions/roi_crop.py -> build/lib.linux-x86_64-3.7/model/roi_crop/functions\n",
            "copying model/roi_crop/functions/crop_resize.py -> build/lib.linux-x86_64-3.7/model/roi_crop/functions\n",
            "creating build/lib.linux-x86_64-3.7/model/roi_crop/_ext\n",
            "copying model/roi_crop/_ext/__init__.py -> build/lib.linux-x86_64-3.7/model/roi_crop/_ext\n",
            "creating build/lib.linux-x86_64-3.7/model/roi_crop/modules\n",
            "copying model/roi_crop/modules/__init__.py -> build/lib.linux-x86_64-3.7/model/roi_crop/modules\n",
            "copying model/roi_crop/modules/gridgen.py -> build/lib.linux-x86_64-3.7/model/roi_crop/modules\n",
            "copying model/roi_crop/modules/roi_crop.py -> build/lib.linux-x86_64-3.7/model/roi_crop/modules\n",
            "creating build/lib.linux-x86_64-3.7/model/roi_crop/_ext/roi_crop\n",
            "copying model/roi_crop/_ext/roi_crop/__init__.py -> build/lib.linux-x86_64-3.7/model/roi_crop/_ext/roi_crop\n",
            "creating build/lib.linux-x86_64-3.7/model/roi_crop/_ext/crop_resize\n",
            "copying model/roi_crop/_ext/crop_resize/__init__.py -> build/lib.linux-x86_64-3.7/model/roi_crop/_ext/crop_resize\n",
            "creating build/lib.linux-x86_64-3.7/model/nms/_ext\n",
            "copying model/nms/_ext/__init__.py -> build/lib.linux-x86_64-3.7/model/nms/_ext\n",
            "creating build/lib.linux-x86_64-3.7/model/nms/_ext/nms\n",
            "copying model/nms/_ext/nms/__init__.py -> build/lib.linux-x86_64-3.7/model/nms/_ext/nms\n",
            "creating build/lib.linux-x86_64-3.7/model/roi_pooling/functions\n",
            "copying model/roi_pooling/functions/__init__.py -> build/lib.linux-x86_64-3.7/model/roi_pooling/functions\n",
            "copying model/roi_pooling/functions/roi_pool.py -> build/lib.linux-x86_64-3.7/model/roi_pooling/functions\n",
            "creating build/lib.linux-x86_64-3.7/model/roi_pooling/_ext\n",
            "copying model/roi_pooling/_ext/__init__.py -> build/lib.linux-x86_64-3.7/model/roi_pooling/_ext\n",
            "creating build/lib.linux-x86_64-3.7/model/roi_pooling/modules\n",
            "copying model/roi_pooling/modules/__init__.py -> build/lib.linux-x86_64-3.7/model/roi_pooling/modules\n",
            "copying model/roi_pooling/modules/roi_pool.py -> build/lib.linux-x86_64-3.7/model/roi_pooling/modules\n",
            "creating build/lib.linux-x86_64-3.7/model/roi_pooling/_ext/roi_pooling\n",
            "copying model/roi_pooling/_ext/roi_pooling/__init__.py -> build/lib.linux-x86_64-3.7/model/roi_pooling/_ext/roi_pooling\n",
            "creating build/lib.linux-x86_64-3.7/model/roi_align/functions\n",
            "copying model/roi_align/functions/__init__.py -> build/lib.linux-x86_64-3.7/model/roi_align/functions\n",
            "copying model/roi_align/functions/roi_align.py -> build/lib.linux-x86_64-3.7/model/roi_align/functions\n",
            "creating build/lib.linux-x86_64-3.7/model/roi_align/_ext\n",
            "copying model/roi_align/_ext/__init__.py -> build/lib.linux-x86_64-3.7/model/roi_align/_ext\n",
            "creating build/lib.linux-x86_64-3.7/model/roi_align/modules\n",
            "copying model/roi_align/modules/__init__.py -> build/lib.linux-x86_64-3.7/model/roi_align/modules\n",
            "copying model/roi_align/modules/roi_align.py -> build/lib.linux-x86_64-3.7/model/roi_align/modules\n",
            "creating build/lib.linux-x86_64-3.7/model/roi_align/_ext/roi_align\n",
            "copying model/roi_align/_ext/roi_align/__init__.py -> build/lib.linux-x86_64-3.7/model/roi_align/_ext/roi_align\n",
            "running build_ext\n",
            "/usr/local/lib/python3.7/dist-packages/torch/utils/cpp_extension.py:411: UserWarning: Attempted to use ninja as the BuildExtension backend but we could not find ninja.. Falling back to using the slow distutils backend.\n",
            "  warnings.warn(msg.format('we could not find ninja.'))\n",
            "/usr/local/lib/python3.7/dist-packages/torch/utils/cpp_extension.py:813: UserWarning: The detected CUDA version (11.2) has a minor version mismatch with the version that was used to compile PyTorch (11.3). Most likely this shouldn't be a problem.\n",
            "  warnings.warn(CUDA_MISMATCH_WARN.format(cuda_str_version, torch.version.cuda))\n",
            "building 'model._C' extension\n",
            "creating build/temp.linux-x86_64-3.7\n",
            "creating build/temp.linux-x86_64-3.7/content\n",
            "creating build/temp.linux-x86_64-3.7/content/hand_object_detector\n",
            "creating build/temp.linux-x86_64-3.7/content/hand_object_detector/lib\n",
            "creating build/temp.linux-x86_64-3.7/content/hand_object_detector/lib/model\n",
            "creating build/temp.linux-x86_64-3.7/content/hand_object_detector/lib/model/csrc\n",
            "creating build/temp.linux-x86_64-3.7/content/hand_object_detector/lib/model/csrc/cpu\n",
            "creating build/temp.linux-x86_64-3.7/content/hand_object_detector/lib/model/csrc/cuda\n",
            "x86_64-linux-gnu-gcc -pthread -Wno-unused-result -Wsign-compare -DNDEBUG -g -fwrapv -O2 -Wall -g -fstack-protector-strong -Wformat -Werror=format-security -g -fwrapv -O2 -g -fstack-protector-strong -Wformat -Werror=format-security -Wdate-time -D_FORTIFY_SOURCE=2 -fPIC -DWITH_CUDA -I/content/hand_object_detector/lib/model/csrc -I/usr/local/lib/python3.7/dist-packages/torch/include -I/usr/local/lib/python3.7/dist-packages/torch/include/torch/csrc/api/include -I/usr/local/lib/python3.7/dist-packages/torch/include/TH -I/usr/local/lib/python3.7/dist-packages/torch/include/THC -I/usr/local/cuda/include -I/usr/include/python3.7m -c /content/hand_object_detector/lib/model/csrc/vision.cpp -o build/temp.linux-x86_64-3.7/content/hand_object_detector/lib/model/csrc/vision.o -DTORCH_API_INCLUDE_EXTENSION_H -DPYBIND11_COMPILER_TYPE=\"_gcc\" -DPYBIND11_STDLIB=\"_libstdcpp\" -DPYBIND11_BUILD_ABI=\"_cxxabi1011\" -DTORCH_EXTENSION_NAME=_C -D_GLIBCXX_USE_CXX11_ABI=0 -std=c++14\n",
            "interrupted\n",
            "\n"
          ]
        }
      ]
    },
    {
      "cell_type": "code",
      "source": [
        "# from model.faster_rcnn import faster_rcnn\n",
        "# # from torchvision.models.detection import faster_rcnn\n",
        "# model = nn.Module()\n",
        "# class NewModel(nn.Module):\n",
        "#   def __init__(self):\n",
        "#     pass\n",
        "\n",
        "# model2 = NewModel()\n",
        "# model3 = fasterRCNN()"
      ],
      "metadata": {
        "id": "Wqg8HQmtgVXT"
      },
      "execution_count": null,
      "outputs": []
    },
    {
      "cell_type": "code",
      "source": [
        "# import torchvision\n",
        "# model = torchvision.models.detection.fasterrcnn_resnet50_fpn(pretrained=True)\n",
        "\n",
        "# model.load_state_dict(torch.load(\"/content/drive/MyDrive/faster_rcnn_1_8_132028.pth\"))\n",
        "%cd /content/hand_object_detector/\n",
        "%mkdir models/\n",
        "%cd models/\n",
        "%mkdir resnet101_handobj_100K/\n",
        "%cd resnet101_handobj_100K/\n",
        "%mkdir pascal_voc/\n",
        "%cp /content/drive/MyDrive/faster_rcnn_1_8_132028.pth /content/hand_object_detector/models/resnet101_handobj_100K/pascal_voc/faster_rcnn_1_8_132028.pth"
      ],
      "metadata": {
        "id": "jHiawqCCYDDC",
        "colab": {
          "base_uri": "https://localhost:8080/"
        },
        "outputId": "4f4db3e0-e2bc-45da-9d2b-022e51786863"
      },
      "execution_count": null,
      "outputs": [
        {
          "output_type": "stream",
          "name": "stdout",
          "text": [
            "/content/hand_object_detector\n",
            "mkdir: cannot create directory ‘models/’: File exists\n",
            "/content/hand_object_detector/models\n",
            "mkdir: cannot create directory ‘resnet101_handobj_100K/’: File exists\n",
            "/content/hand_object_detector/models/resnet101_handobj_100K\n",
            "mkdir: cannot create directory ‘pascal_voc/’: File exists\n"
          ]
        }
      ]
    },
    {
      "cell_type": "code",
      "source": [
        "print(torch.cuda.is_available())\n",
        "%cd /content/hand_object_detector/\n",
        "!CUDA_VISIBLE_DEVICES=0 python demo.py --cuda --checkepoch=8 --checkpoint=132028"
      ],
      "metadata": {
        "id": "e1xBzCwgZroT",
        "colab": {
          "base_uri": "https://localhost:8080/"
        },
        "outputId": "0a1c5508-77d6-4f9e-db12-9453441255c1"
      },
      "execution_count": null,
      "outputs": [
        {
          "output_type": "stream",
          "name": "stdout",
          "text": [
            "True\n",
            "/content/hand_object_detector\n",
            "/usr/local/lib/python3.7/dist-packages/torchvision/io/image.py:13: UserWarning: Failed to load image Python extension: libtorch_cpu.so: cannot open shared object file: No such file or directory\n",
            "  warn(f\"Failed to load image Python extension: {e}\")\n",
            "Traceback (most recent call last):\n",
            "  File \"demo.py\", line 26, in <module>\n",
            "    import torchvision.transforms as transforms\n",
            "  File \"/usr/local/lib/python3.7/dist-packages/torchvision/__init__.py\", line 5, in <module>\n",
            "    from torchvision import datasets\n",
            "  File \"/usr/local/lib/python3.7/dist-packages/torchvision/datasets/__init__.py\", line 11, in <module>\n",
            "    from .fakedata import FakeData\n",
            "  File \"/usr/local/lib/python3.7/dist-packages/torchvision/datasets/fakedata.py\", line 5, in <module>\n",
            "    from .. import transforms\n",
            "  File \"/usr/local/lib/python3.7/dist-packages/torchvision/transforms/__init__.py\", line 1, in <module>\n",
            "    from .transforms import *\n",
            "  File \"/usr/local/lib/python3.7/dist-packages/torchvision/transforms/transforms.py\", line 17, in <module>\n",
            "    from . import functional as F\n",
            "  File \"/usr/local/lib/python3.7/dist-packages/torchvision/transforms/functional.py\", line 18, in <module>\n",
            "    from . import functional_pil as F_pil\n",
            "  File \"/usr/local/lib/python3.7/dist-packages/torchvision/transforms/functional_pil.py\", line 16, in <module>\n",
            "    @torch.jit.unused\n",
            "AttributeError: module 'torch.jit' has no attribute 'unused'\n"
          ]
        }
      ]
    },
    {
      "cell_type": "code",
      "source": [
        "import torch\n",
        "print(torch.__version__)"
      ],
      "metadata": {
        "colab": {
          "base_uri": "https://localhost:8080/"
        },
        "id": "dzpuZo4gkacr",
        "outputId": "25ecfd74-e3db-4886-8dd3-61473197788c"
      },
      "execution_count": null,
      "outputs": [
        {
          "output_type": "stream",
          "name": "stdout",
          "text": [
            "1.2.0\n"
          ]
        }
      ]
    },
    {
      "cell_type": "markdown",
      "source": [
        "https://docs.opencv.org/2.4/modules/core/doc/drawing_functions.html#rectangle\n",
        "https://docs.opencv.org/3.4/dd/d9e/classcv_1_1VideoWriter.html\n",
        "\n",
        "https://www.geeksforgeeks.org/how-to-draw-filled-rectangle-to-every-frame-of-video-by-using-python-opencv/"
      ],
      "metadata": {
        "id": "Hk0MR6d8J6nP"
      }
    }
  ]
}