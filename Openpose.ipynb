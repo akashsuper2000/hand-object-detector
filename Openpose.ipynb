{
  "nbformat": 4,
  "nbformat_minor": 0,
  "metadata": {
    "colab": {
      "provenance": []
    },
    "kernelspec": {
      "name": "python3",
      "display_name": "Python 3"
    },
    "language_info": {
      "name": "python"
    }
  },
  "cells": [
    {
      "cell_type": "code",
      "execution_count": null,
      "metadata": {
        "colab": {
          "base_uri": "https://localhost:8080/",
          "height": 140
        },
        "id": "46l88fX5QbJo",
        "outputId": "8bcacd22-9438-4d26-ec1f-64ad0127302e"
      },
      "outputs": [
        {
          "output_type": "stream",
          "name": "stdout",
          "text": [
            "Cloning into 'pytorch-openpose'...\n",
            "remote: Enumerating objects: 154, done.\u001b[K\n",
            "remote: Total 154 (delta 0), reused 0 (delta 0), pack-reused 154\u001b[K\n",
            "Receiving objects: 100% (154/154), 20.18 MiB | 20.56 MiB/s, done.\n",
            "Resolving deltas: 100% (68/68), done.\n",
            "/content/pytorch-openpose\n"
          ]
        },
        {
          "output_type": "execute_result",
          "data": {
            "text/plain": [
              "'/content/pytorch-openpose'"
            ],
            "application/vnd.google.colaboratory.intrinsic+json": {
              "type": "string"
            }
          },
          "metadata": {},
          "execution_count": 8
        }
      ],
      "source": [
        "!git clone https://github.com/Hzzone/pytorch-openpose.git\n",
        "%cd /content/pytorch-openpose/\n",
        "%pwd"
      ]
    },
    {
      "cell_type": "code",
      "source": [
        "!pip install -r requirements.txt"
      ],
      "metadata": {
        "colab": {
          "base_uri": "https://localhost:8080/"
        },
        "id": "8wGwEwhmQnNI",
        "outputId": "62e93a5e-bf28-4199-82cc-7ba3c0c6d09a"
      },
      "execution_count": null,
      "outputs": [
        {
          "output_type": "stream",
          "name": "stdout",
          "text": [
            "Looking in indexes: https://pypi.org/simple, https://us-python.pkg.dev/colab-wheels/public/simple/\n",
            "Requirement already satisfied: numpy in /usr/local/lib/python3.7/dist-packages (from -r requirements.txt (line 1)) (1.21.6)\n",
            "Requirement already satisfied: matplotlib in /usr/local/lib/python3.7/dist-packages (from -r requirements.txt (line 2)) (3.2.2)\n",
            "Requirement already satisfied: opencv-python in /usr/local/lib/python3.7/dist-packages (from -r requirements.txt (line 3)) (4.6.0.66)\n",
            "Requirement already satisfied: scipy in /usr/local/lib/python3.7/dist-packages (from -r requirements.txt (line 4)) (1.7.3)\n",
            "Requirement already satisfied: scikit-image in /usr/local/lib/python3.7/dist-packages (from -r requirements.txt (line 5)) (0.18.3)\n",
            "Requirement already satisfied: tqdm in /usr/local/lib/python3.7/dist-packages (from -r requirements.txt (line 6)) (4.64.1)\n",
            "Requirement already satisfied: python-dateutil>=2.1 in /usr/local/lib/python3.7/dist-packages (from matplotlib->-r requirements.txt (line 2)) (2.8.2)\n",
            "Requirement already satisfied: kiwisolver>=1.0.1 in /usr/local/lib/python3.7/dist-packages (from matplotlib->-r requirements.txt (line 2)) (1.4.4)\n",
            "Requirement already satisfied: cycler>=0.10 in /usr/local/lib/python3.7/dist-packages (from matplotlib->-r requirements.txt (line 2)) (0.11.0)\n",
            "Requirement already satisfied: pyparsing!=2.0.4,!=2.1.2,!=2.1.6,>=2.0.1 in /usr/local/lib/python3.7/dist-packages (from matplotlib->-r requirements.txt (line 2)) (3.0.9)\n",
            "Requirement already satisfied: typing-extensions in /usr/local/lib/python3.7/dist-packages (from kiwisolver>=1.0.1->matplotlib->-r requirements.txt (line 2)) (4.1.1)\n",
            "Requirement already satisfied: six>=1.5 in /usr/local/lib/python3.7/dist-packages (from python-dateutil>=2.1->matplotlib->-r requirements.txt (line 2)) (1.15.0)\n",
            "Requirement already satisfied: PyWavelets>=1.1.1 in /usr/local/lib/python3.7/dist-packages (from scikit-image->-r requirements.txt (line 5)) (1.3.0)\n",
            "Requirement already satisfied: pillow!=7.1.0,!=7.1.1,>=4.3.0 in /usr/local/lib/python3.7/dist-packages (from scikit-image->-r requirements.txt (line 5)) (7.1.2)\n",
            "Requirement already satisfied: imageio>=2.3.0 in /usr/local/lib/python3.7/dist-packages (from scikit-image->-r requirements.txt (line 5)) (2.9.0)\n",
            "Requirement already satisfied: networkx>=2.0 in /usr/local/lib/python3.7/dist-packages (from scikit-image->-r requirements.txt (line 5)) (2.6.3)\n",
            "Requirement already satisfied: tifffile>=2019.7.26 in /usr/local/lib/python3.7/dist-packages (from scikit-image->-r requirements.txt (line 5)) (2021.11.2)\n"
          ]
        }
      ]
    },
    {
      "cell_type": "code",
      "source": [
        "from google.colab import drive\n",
        "drive.mount('/content/gdrive')"
      ],
      "metadata": {
        "colab": {
          "base_uri": "https://localhost:8080/"
        },
        "id": "61vWlUzFRfC3",
        "outputId": "e16942f4-eb4b-43dc-9d02-911243b4f036"
      },
      "execution_count": null,
      "outputs": [
        {
          "output_type": "stream",
          "name": "stdout",
          "text": [
            "Mounted at /content/gdrive\n"
          ]
        }
      ]
    },
    {
      "cell_type": "code",
      "source": [
        "%cp /content/gdrive/MyDrive/body_pose_model.pth /content/pytorch-openpose/model\n",
        "%cp /content/gdrive/MyDrive/hand_pose_model.pth /content/pytorch-openpose/model"
      ],
      "metadata": {
        "id": "tBz1QrXZRjUt"
      },
      "execution_count": null,
      "outputs": []
    },
    {
      "cell_type": "code",
      "source": [
        "!python demo.py"
      ],
      "metadata": {
        "colab": {
          "base_uri": "https://localhost:8080/"
        },
        "id": "vOXgJBuBRDQV",
        "outputId": "4efbe7fe-c4fb-49e3-9301-1b38cb6d8ad9"
      },
      "execution_count": null,
      "outputs": [
        {
          "output_type": "stream",
          "name": "stdout",
          "text": [
            "Figure(640x480)\n"
          ]
        }
      ]
    },
    {
      "cell_type": "code",
      "source": [
        "!ffmpeg --help"
      ],
      "metadata": {
        "colab": {
          "base_uri": "https://localhost:8080/"
        },
        "id": "CteG0aDBbzio",
        "outputId": "7c8a2d67-7f51-431d-90f5-a8e927766428"
      },
      "execution_count": null,
      "outputs": [
        {
          "output_type": "stream",
          "name": "stdout",
          "text": [
            "ffmpeg version 3.4.11-0ubuntu0.1 Copyright (c) 2000-2022 the FFmpeg developers\n",
            "  built with gcc 7 (Ubuntu 7.5.0-3ubuntu1~18.04)\n",
            "  configuration: --prefix=/usr --extra-version=0ubuntu0.1 --toolchain=hardened --libdir=/usr/lib/x86_64-linux-gnu --incdir=/usr/include/x86_64-linux-gnu --enable-gpl --disable-stripping --enable-avresample --enable-avisynth --enable-gnutls --enable-ladspa --enable-libass --enable-libbluray --enable-libbs2b --enable-libcaca --enable-libcdio --enable-libflite --enable-libfontconfig --enable-libfreetype --enable-libfribidi --enable-libgme --enable-libgsm --enable-libmp3lame --enable-libmysofa --enable-libopenjpeg --enable-libopenmpt --enable-libopus --enable-libpulse --enable-librubberband --enable-librsvg --enable-libshine --enable-libsnappy --enable-libsoxr --enable-libspeex --enable-libssh --enable-libtheora --enable-libtwolame --enable-libvorbis --enable-libvpx --enable-libwavpack --enable-libwebp --enable-libx265 --enable-libxml2 --enable-libxvid --enable-libzmq --enable-libzvbi --enable-omx --enable-openal --enable-opengl --enable-sdl2 --enable-libdc1394 --enable-libdrm --enable-libiec61883 --enable-chromaprint --enable-frei0r --enable-libopencv --enable-libx264 --enable-shared\n",
            "  libavutil      55. 78.100 / 55. 78.100\n",
            "  libavcodec     57.107.100 / 57.107.100\n",
            "  libavformat    57. 83.100 / 57. 83.100\n",
            "  libavdevice    57. 10.100 / 57. 10.100\n",
            "  libavfilter     6.107.100 /  6.107.100\n",
            "  libavresample   3.  7.  0 /  3.  7.  0\n",
            "  libswscale      4.  8.100 /  4.  8.100\n",
            "  libswresample   2.  9.100 /  2.  9.100\n",
            "  libpostproc    54.  7.100 / 54.  7.100\n",
            "Hyper fast Audio and Video encoder\n",
            "usage: ffmpeg [options] [[infile options] -i infile]... {[outfile options] outfile}...\n",
            "\n",
            "Getting help:\n",
            "    -h      -- print basic options\n",
            "    -h long -- print more options\n",
            "    -h full -- print all options (including all format and codec specific options, very long)\n",
            "    -h type=name -- print all options for the named decoder/encoder/demuxer/muxer/filter\n",
            "    See man ffmpeg for detailed description of the options.\n",
            "\n",
            "Print help / information / capabilities:\n",
            "-L                  show license\n",
            "-h topic            show help\n",
            "-? topic            show help\n",
            "-help topic         show help\n",
            "--help topic        show help\n",
            "-version            show version\n",
            "-buildconf          show build configuration\n",
            "-formats            show available formats\n",
            "-muxers             show available muxers\n",
            "-demuxers           show available demuxers\n",
            "-devices            show available devices\n",
            "-codecs             show available codecs\n",
            "-decoders           show available decoders\n",
            "-encoders           show available encoders\n",
            "-bsfs               show available bit stream filters\n",
            "-protocols          show available protocols\n",
            "-filters            show available filters\n",
            "-pix_fmts           show available pixel formats\n",
            "-layouts            show standard channel layouts\n",
            "-sample_fmts        show available audio sample formats\n",
            "-colors             show available color names\n",
            "-sources device     list sources of the input device\n",
            "-sinks device       list sinks of the output device\n",
            "-hwaccels           show available HW acceleration methods\n",
            "\n",
            "Global options (affect whole program instead of just one file:\n",
            "-loglevel loglevel  set logging level\n",
            "-v loglevel         set logging level\n",
            "-report             generate a report\n",
            "-max_alloc bytes    set maximum size of a single allocated block\n",
            "-y                  overwrite output files\n",
            "-n                  never overwrite output files\n",
            "-ignore_unknown     Ignore unknown stream types\n",
            "-filter_threads     number of non-complex filter threads\n",
            "-filter_complex_threads  number of threads for -filter_complex\n",
            "-stats              print progress report during encoding\n",
            "-max_error_rate ratio of errors (0.0: no errors, 1.0: 100% error  maximum error rate\n",
            "-bits_per_raw_sample number  set the number of bits per raw sample\n",
            "-vol volume         change audio volume (256=normal)\n",
            "\n",
            "Per-file main options:\n",
            "-f fmt              force format\n",
            "-c codec            codec name\n",
            "-codec codec        codec name\n",
            "-pre preset         preset name\n",
            "-map_metadata outfile[,metadata]:infile[,metadata]  set metadata information of outfile from infile\n",
            "-t duration         record or transcode \"duration\" seconds of audio/video\n",
            "-to time_stop       record or transcode stop time\n",
            "-fs limit_size      set the limit file size in bytes\n",
            "-ss time_off        set the start time offset\n",
            "-sseof time_off     set the start time offset relative to EOF\n",
            "-seek_timestamp     enable/disable seeking by timestamp with -ss\n",
            "-timestamp time     set the recording timestamp ('now' to set the current time)\n",
            "-metadata string=string  add metadata\n",
            "-program title=string:st=number...  add program with specified streams\n",
            "-target type        specify target file type (\"vcd\", \"svcd\", \"dvd\", \"dv\" or \"dv50\" with optional prefixes \"pal-\", \"ntsc-\" or \"film-\")\n",
            "-apad               audio pad\n",
            "-frames number      set the number of frames to output\n",
            "-filter filter_graph  set stream filtergraph\n",
            "-filter_script filename  read stream filtergraph description from a file\n",
            "-reinit_filter      reinit filtergraph on input parameter changes\n",
            "-discard            discard\n",
            "-disposition        disposition\n",
            "\n",
            "Video options:\n",
            "-vframes number     set the number of video frames to output\n",
            "-r rate             set frame rate (Hz value, fraction or abbreviation)\n",
            "-s size             set frame size (WxH or abbreviation)\n",
            "-aspect aspect      set aspect ratio (4:3, 16:9 or 1.3333, 1.7777)\n",
            "-bits_per_raw_sample number  set the number of bits per raw sample\n",
            "-vn                 disable video\n",
            "-vcodec codec       force video codec ('copy' to copy stream)\n",
            "-timecode hh:mm:ss[:;.]ff  set initial TimeCode value.\n",
            "-pass n             select the pass number (1 to 3)\n",
            "-vf filter_graph    set video filters\n",
            "-ab bitrate         audio bitrate (please use -b:a)\n",
            "-b bitrate          video bitrate (please use -b:v)\n",
            "-dn                 disable data\n",
            "\n",
            "Audio options:\n",
            "-aframes number     set the number of audio frames to output\n",
            "-aq quality         set audio quality (codec-specific)\n",
            "-ar rate            set audio sampling rate (in Hz)\n",
            "-ac channels        set number of audio channels\n",
            "-an                 disable audio\n",
            "-acodec codec       force audio codec ('copy' to copy stream)\n",
            "-vol volume         change audio volume (256=normal)\n",
            "-af filter_graph    set audio filters\n",
            "\n",
            "Subtitle options:\n",
            "-s size             set frame size (WxH or abbreviation)\n",
            "-sn                 disable subtitle\n",
            "-scodec codec       force subtitle codec ('copy' to copy stream)\n",
            "-stag fourcc/tag    force subtitle tag/fourcc\n",
            "-fix_sub_duration   fix subtitles duration\n",
            "-canvas_size size   set canvas size (WxH or abbreviation)\n",
            "-spre preset        set the subtitle options to the indicated preset\n",
            "\n",
            "\n"
          ]
        }
      ]
    },
    {
      "cell_type": "code",
      "source": [
        "%%time\n",
        "\n",
        "!ffmpeg -i /content/gdrive/MyDrive/ego_clip.mp4 -vcodec libx264 -r 24 -y -an -vf \"pad=ceil(iw/2)*2:ceil(ih/2)*2\" /content/gdrive/MyDrive/ego_clip_padded.mp4"
      ],
      "metadata": {
        "colab": {
          "base_uri": "https://localhost:8080/"
        },
        "id": "3ky-kVsFUD1s",
        "outputId": "57e1e236-35de-4b58-9b26-323e39f6c8d3"
      },
      "execution_count": null,
      "outputs": [
        {
          "output_type": "stream",
          "name": "stdout",
          "text": [
            "ffmpeg version 3.4.11-0ubuntu0.1 Copyright (c) 2000-2022 the FFmpeg developers\n",
            "  built with gcc 7 (Ubuntu 7.5.0-3ubuntu1~18.04)\n",
            "  configuration: --prefix=/usr --extra-version=0ubuntu0.1 --toolchain=hardened --libdir=/usr/lib/x86_64-linux-gnu --incdir=/usr/include/x86_64-linux-gnu --enable-gpl --disable-stripping --enable-avresample --enable-avisynth --enable-gnutls --enable-ladspa --enable-libass --enable-libbluray --enable-libbs2b --enable-libcaca --enable-libcdio --enable-libflite --enable-libfontconfig --enable-libfreetype --enable-libfribidi --enable-libgme --enable-libgsm --enable-libmp3lame --enable-libmysofa --enable-libopenjpeg --enable-libopenmpt --enable-libopus --enable-libpulse --enable-librubberband --enable-librsvg --enable-libshine --enable-libsnappy --enable-libsoxr --enable-libspeex --enable-libssh --enable-libtheora --enable-libtwolame --enable-libvorbis --enable-libvpx --enable-libwavpack --enable-libwebp --enable-libx265 --enable-libxml2 --enable-libxvid --enable-libzmq --enable-libzvbi --enable-omx --enable-openal --enable-opengl --enable-sdl2 --enable-libdc1394 --enable-libdrm --enable-libiec61883 --enable-chromaprint --enable-frei0r --enable-libopencv --enable-libx264 --enable-shared\n",
            "  libavutil      55. 78.100 / 55. 78.100\n",
            "  libavcodec     57.107.100 / 57.107.100\n",
            "  libavformat    57. 83.100 / 57. 83.100\n",
            "  libavdevice    57. 10.100 / 57. 10.100\n",
            "  libavfilter     6.107.100 /  6.107.100\n",
            "  libavresample   3.  7.  0 /  3.  7.  0\n",
            "  libswscale      4.  8.100 /  4.  8.100\n",
            "  libswresample   2.  9.100 /  2.  9.100\n",
            "  libpostproc    54.  7.100 / 54.  7.100\n",
            "Input #0, mov,mp4,m4a,3gp,3g2,mj2, from '/content/gdrive/MyDrive/ego_clip.mp4':\n",
            "  Metadata:\n",
            "    major_brand     : isom\n",
            "    minor_version   : 512\n",
            "    compatible_brands: isomiso2avc1mp41\n",
            "    encoder         : Lavf57.83.100\n",
            "  Duration: 00:02:07.83, start: -0.008000, bitrate: 45191 kb/s\n",
            "    Stream #0:0(eng): Video: h264 (High) (avc1 / 0x31637661), yuvj420p(pc, bt709), 1920x1080 [SAR 1:1 DAR 16:9], 44995 kb/s, 29.97 fps, 29.97 tbr, 90k tbn, 59.94 tbc (default)\n",
            "    Metadata:\n",
            "      rotate          : 180\n",
            "      handler_name    : VideoHandler\n",
            "      timecode        : 14:35:40:18\n",
            "    Side data:\n",
            "      displaymatrix: rotation of -180.00 degrees\n",
            "    Stream #0:1(eng): Audio: aac (LC) (mp4a / 0x6134706D), 48000 Hz, stereo, fltp, 189 kb/s (default)\n",
            "    Metadata:\n",
            "      handler_name    : SoundHandler\n",
            "    Stream #0:2(eng): Data: none (tmcd / 0x64636D74)\n",
            "    Metadata:\n",
            "      handler_name    : TimeCodeHandler\n",
            "      timecode        : 14:35:40:18\n",
            "Stream mapping:\n",
            "  Stream #0:0 -> #0:0 (h264 (native) -> h264 (libx264))\n",
            "Press [q] to stop, [?] for help\n",
            "\u001b[1;36m[libx264 @ 0x564e7ec7b700] \u001b[0musing SAR=1/1\n",
            "\u001b[1;36m[libx264 @ 0x564e7ec7b700] \u001b[0musing cpu capabilities: MMX2 SSE2Fast SSSE3 SSE4.2 AVX FMA3 BMI2 AVX2\n",
            "\u001b[1;36m[libx264 @ 0x564e7ec7b700] \u001b[0mprofile High, level 4.0\n",
            "\u001b[1;36m[libx264 @ 0x564e7ec7b700] \u001b[0m264 - core 152 r2854 e9a5903 - H.264/MPEG-4 AVC codec - Copyleft 2003-2017 - http://www.videolan.org/x264.html - options: cabac=1 ref=3 deblock=1:0:0 analyse=0x3:0x113 me=hex subme=7 psy=1 psy_rd=1.00:0.00 mixed_ref=1 me_range=16 chroma_me=1 trellis=1 8x8dct=1 cqm=0 deadzone=21,11 fast_pskip=1 chroma_qp_offset=-2 threads=3 lookahead_threads=1 sliced_threads=0 nr=0 decimate=1 interlaced=0 bluray_compat=0 constrained_intra=0 bframes=3 b_pyramid=2 b_adapt=1 b_bias=0 direct=1 weightb=1 open_gop=0 weightp=2 keyint=250 keyint_min=24 scenecut=40 intra_refresh=0 rc_lookahead=40 rc=crf mbtree=1 crf=23.0 qcomp=0.60 qpmin=0 qpmax=69 qpstep=4 ip_ratio=1.40 aq=1:1.00\n",
            "Output #0, mp4, to '/content/gdrive/MyDrive/ego_clip_padded.mp4':\n",
            "  Metadata:\n",
            "    major_brand     : isom\n",
            "    minor_version   : 512\n",
            "    compatible_brands: isomiso2avc1mp41\n",
            "    encoder         : Lavf57.83.100\n",
            "    Stream #0:0(eng): Video: h264 (libx264) (avc1 / 0x31637661), yuvj420p(pc), 1920x1080 [SAR 1:1 DAR 16:9], q=-1--1, 24 fps, 12288 tbn, 24 tbc (default)\n",
            "    Metadata:\n",
            "      encoder         : Lavc57.107.100 libx264\n",
            "      handler_name    : VideoHandler\n",
            "      timecode        : 14:35:40:18\n",
            "    Side data:\n",
            "      cpb: bitrate max/min/avg: 0/0/0 buffer size: 0 vbv_delay: -1\n",
            "      displaymatrix: rotation of -0.00 degrees\n",
            "\u001b[0;33mPast duration 0.604790 too large\n",
            "frame= 3046 fps=5.4 q=-1.0 Lsize=  101975kB time=00:02:06.79 bitrate=6588.6kbits/s dup=0 drop=755 speed=0.227x    \n",
            "video:101936kB audio:0kB subtitle:0kB other streams:0kB global headers:0kB muxing overhead: 0.037652%\n",
            "\u001b[1;36m[libx264 @ 0x564e7ec7b700] \u001b[0mframe I:16    Avg QP:21.26  size:151416\n",
            "\u001b[1;36m[libx264 @ 0x564e7ec7b700] \u001b[0mframe P:768   Avg QP:23.75  size: 64966\n",
            "\u001b[1;36m[libx264 @ 0x564e7ec7b700] \u001b[0mframe B:2262  Avg QP:25.62  size: 23018\n",
            "\u001b[1;36m[libx264 @ 0x564e7ec7b700] \u001b[0mconsecutive B-frames:  0.9%  0.1%  0.4% 98.6%\n",
            "\u001b[1;36m[libx264 @ 0x564e7ec7b700] \u001b[0mmb I  I16..4: 12.3% 68.3% 19.4%\n",
            "\u001b[1;36m[libx264 @ 0x564e7ec7b700] \u001b[0mmb P  I16..4:  1.3%  6.8%  1.2%  P16..4: 47.9% 14.7% 10.4%  0.0%  0.0%    skip:17.6%\n",
            "\u001b[1;36m[libx264 @ 0x564e7ec7b700] \u001b[0mmb B  I16..4:  0.1%  0.7%  0.1%  B16..8: 51.0%  4.6%  1.1%  direct: 5.3%  skip:37.0%  L0:48.2% L1:45.7% BI: 6.1%\n",
            "\u001b[1;36m[libx264 @ 0x564e7ec7b700] \u001b[0m8x8 transform intra:72.1% inter:60.5%\n",
            "\u001b[1;36m[libx264 @ 0x564e7ec7b700] \u001b[0mcoded y,uvDC,uvAC intra: 74.0% 51.5% 10.3% inter: 20.1% 19.7% 0.3%\n",
            "\u001b[1;36m[libx264 @ 0x564e7ec7b700] \u001b[0mi16 v,h,dc,p: 12% 11% 15% 62%\n",
            "\u001b[1;36m[libx264 @ 0x564e7ec7b700] \u001b[0mi8 v,h,dc,ddl,ddr,vr,hd,vl,hu: 14% 10% 36%  9%  7%  7%  5%  6%  6%\n",
            "\u001b[1;36m[libx264 @ 0x564e7ec7b700] \u001b[0mi4 v,h,dc,ddl,ddr,vr,hd,vl,hu: 16% 15% 23%  8% 11%  7%  9%  6%  5%\n",
            "\u001b[1;36m[libx264 @ 0x564e7ec7b700] \u001b[0mi8c dc,h,v,p: 64% 15% 19%  2%\n",
            "\u001b[1;36m[libx264 @ 0x564e7ec7b700] \u001b[0mWeighted P-Frames: Y:1.2% UV:0.1%\n",
            "\u001b[1;36m[libx264 @ 0x564e7ec7b700] \u001b[0mref P L0: 44.2% 11.7% 31.0% 12.9%  0.1%\n",
            "\u001b[1;36m[libx264 @ 0x564e7ec7b700] \u001b[0mref B L0: 82.4% 13.5%  4.0%\n",
            "\u001b[1;36m[libx264 @ 0x564e7ec7b700] \u001b[0mref B L1: 94.2%  5.8%\n",
            "\u001b[1;36m[libx264 @ 0x564e7ec7b700] \u001b[0mkb/s:6579.58\n",
            "CPU times: user 6.42 s, sys: 759 ms, total: 7.18 s\n",
            "Wall time: 9min 19s\n"
          ]
        }
      ]
    },
    {
      "cell_type": "code",
      "source": [
        "import ffmpeg\n",
        "\n",
        "!python demo_video.py /content/gdrive/MyDrive/ego_clip_padded.mp4"
      ],
      "metadata": {
        "colab": {
          "base_uri": "https://localhost:8080/"
        },
        "id": "CjfTT0cGRJBU",
        "outputId": "c0c66973-0288-452e-a67d-e828f31ee5f8"
      },
      "execution_count": null,
      "outputs": [
        {
          "output_type": "stream",
          "name": "stdout",
          "text": [
            "qt.qpa.xcb: could not connect to display \n",
            "qt.qpa.plugin: Could not load the Qt platform plugin \"xcb\" in \"/usr/local/lib/python3.7/dist-packages/cv2/qt/plugins\" even though it was found.\n",
            "This application failed to start because no Qt platform plugin could be initialized. Reinstalling the application may fix this problem.\n",
            "\n",
            "Available platform plugins are: xcb.\n",
            "\n",
            "ffmpeg version 3.4.11-0ubuntu0.1 Copyright (c) 2000-2022 the FFmpeg developers\n",
            "  built with gcc 7 (Ubuntu 7.5.0-3ubuntu1~18.04)\n",
            "  configuration: --prefix=/usr --extra-version=0ubuntu0.1 --toolchain=hardened --libdir=/usr/lib/x86_64-linux-gnu --incdir=/usr/include/x86_64-linux-gnu --enable-gpl --disable-stripping --enable-avresample --enable-avisynth --enable-gnutls --enable-ladspa --enable-libass --enable-libbluray --enable-libbs2b --enable-libcaca --enable-libcdio --enable-libflite --enable-libfontconfig --enable-libfreetype --enable-libfribidi --enable-libgme --enable-libgsm --enable-libmp3lame --enable-libmysofa --enable-libopenjpeg --enable-libopenmpt --enable-libopus --enable-libpulse --enable-librubberband --enable-librsvg --enable-libshine --enable-libsnappy --enable-libsoxr --enable-libspeex --enable-libssh --enable-libtheora --enable-libtwolame --enable-libvorbis --enable-libvpx --enable-libwavpack --enable-libwebp --enable-libx265 --enable-libxml2 --enable-libxvid --enable-libzmq --enable-libzvbi --enable-omx --enable-openal --enable-opengl --enable-sdl2 --enable-libdc1394 --enable-libdrm --enable-libiec61883 --enable-chromaprint --enable-frei0r --enable-libopencv --enable-libx264 --enable-shared\n",
            "  libavutil      55. 78.100 / 55. 78.100\n",
            "  libavcodec     57.107.100 / 57.107.100\n",
            "  libavformat    57. 83.100 / 57. 83.100\n",
            "  libavdevice    57. 10.100 / 57. 10.100\n",
            "  libavfilter     6.107.100 /  6.107.100\n",
            "  libavresample   3.  7.  0 /  3.  7.  0\n",
            "  libswscale      4.  8.100 /  4.  8.100\n",
            "  libswresample   2.  9.100 /  2.  9.100\n",
            "  libpostproc    54.  7.100 / 54.  7.100\n",
            "Input #0, rawvideo, from 'pipe:':\n",
            "  Duration: N/A, bitrate: 235837 kb/s\n",
            "    Stream #0:0: Video: rawvideo (BGR[24] / 0x18524742), bgr24, 853x480, 235837 kb/s, 24 tbr, 24 tbn, 24 tbc\n",
            "Stream mapping:\n",
            "  Stream #0:0 -> #0:0 (rawvideo (native) -> h264 (libx264))\n",
            "\u001b[0;33mFinishing stream 0:0 without any data written to it.\n",
            "\u001b[0m\u001b[1;34m[swscaler @ 0x559a142b8000] \u001b[0m\u001b[0;33mdeprecated pixel format used, make sure you did set range correctly\n",
            "\u001b[0m\u001b[1;36m[libx264 @ 0x559a14255900] \u001b[0m\u001b[1;31mwidth not divisible by 2 (853x480)\n",
            "\u001b[0m\u001b[1;31mError initializing output stream 0:0 -- Error while opening encoder for output stream #0:0 - maybe incorrect parameters such as bit_rate, rate, width or height\n",
            "\u001b[0mConversion failed!\n"
          ]
        }
      ]
    },
    {
      "cell_type": "code",
      "source": [],
      "metadata": {
        "id": "OsmCCvQOS-mn"
      },
      "execution_count": null,
      "outputs": []
    }
  ]
}